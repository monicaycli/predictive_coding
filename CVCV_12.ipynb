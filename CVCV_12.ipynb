{
 "cells": [
  {
   "cell_type": "code",
   "execution_count": 1,
   "metadata": {},
   "outputs": [],
   "source": [
    "import numpy as np\n",
    "import pandas as pd\n",
    "import random\n",
    "from itertools import product\n",
    "import re"
   ]
  },
  {
   "cell_type": "code",
   "execution_count": 2,
   "metadata": {},
   "outputs": [],
   "source": [
    "# each consonant has one unique feature\n",
    "C = ['b', 'k', 's', 'r']\n",
    "V = ['a', '^', 'u', 'i']"
   ]
  },
  {
   "cell_type": "code",
   "execution_count": 3,
   "metadata": {},
   "outputs": [
    {
     "name": "stdout",
     "output_type": "stream",
     "text": [
      "seed: 255\n"
     ]
    }
   ],
   "source": [
    "for seed in range(1000):\n",
    "    random.seed(seed)\n",
    "\n",
    "    candidate_list = []\n",
    "    selection_list = []\n",
    "\n",
    "    for x_tuple in product(C, V, C, V):\n",
    "        x = ''.join(x_tuple)\n",
    "        # no phoneme repetition allowed within a given word\n",
    "        if x[0] != x[2] and x[1] != x[3]:\n",
    "            candidate_list.append(x)\n",
    "\n",
    "    while len(selection_list) < 12:\n",
    "\n",
    "        # check how many cohort and rhyme items each word has\n",
    "        cohort_num = [len([y for y in selection_list if x[:2] == y[:2] and x != y]) for x in selection_list]\n",
    "        rhyme_num = [len([y for y in selection_list if x[1:] == y[1:] and x != y]) for x in selection_list]\n",
    "\n",
    "        # randomly select a new word to start with when cohort and rhyme items are evenly distributed\n",
    "        if len(selection_list) == 0:\n",
    "            selection_list.append(random.sample(candidate_list, 1)[0])\n",
    "        elif (min(cohort_num) == max(cohort_num) & min(rhyme_num) == max(rhyme_num)):\n",
    "            # eliminate words with the same first vowels as the selected words\n",
    "            candidate_list = [x for x in candidate_list if x[1] not in [y[1] for y in selection_list]]\n",
    "            selection_list.append(random.sample(candidate_list, 1)[0])\n",
    "\n",
    "        for i in selection_list:\n",
    "            # check the number of cohort and rhyme items of a given word\n",
    "            i_cohort = [x for x in selection_list if x[:2] == i[:2] and x != i]\n",
    "            i_rhyme = [x for x in selection_list if x[1:] == i[1:] and x != i]\n",
    "\n",
    "            # only search for a cohort item when a given word doesn't already have one\n",
    "            if len(i_cohort) == 0:\n",
    "                r_cohort = re.compile('^' + re.escape(i[:2]))\n",
    "                cohort_list = [x for x in list(filter(r_cohort.search, candidate_list)) if x not in selection_list]\n",
    "\n",
    "                if len(cohort_list) > 0:\n",
    "                    cohort = random.sample(cohort_list, 1)[0]\n",
    "                    selection_list.append(cohort)\n",
    "                    candidate_list = [x for x in candidate_list if x[:2] != cohort[:2]]\n",
    "            \n",
    "            # only search for a rhyme item when a given word doesn't already have one\n",
    "            if len(i_rhyme) == 0:\n",
    "                r_rhyme = re.compile(re.escape(i[1:]) + '$')\n",
    "                rhyme_list = [x for x in list(filter(r_rhyme.search, candidate_list)) if x not in selection_list]\n",
    "\n",
    "                if len(rhyme_list) > 0:\n",
    "                    rhyme = random.sample(rhyme_list, 1)[0]\n",
    "                    selection_list.append(rhyme)\n",
    "                    candidate_list = [x for x in candidate_list if x[1:] != rhyme[1:]]\n",
    "\n",
    "            # create a fourth word based on the cohort and rhyme items to complete the subset of words\n",
    "            # every 4 words should be a complete set where each word has one cohort and one rhyme\n",
    "            if len(i_cohort) == 0 & len(i_rhyme) == 0:\n",
    "                selection_list.append(rhyme[:2]+cohort[2:])\n",
    "\n",
    "    # calculate phoneme frequency by position\n",
    "    phon_freq = {x: [''.join([y[:2] for y in selection_list]).count(x),\n",
    "                     ''.join([y[2:] for y in selection_list]).count(x)] for x in C+V}\n",
    "    phon_freq_0 = {k: v[0] for k, v in phon_freq.items()}\n",
    "    phon_freq_1 = {k: v[1] for k, v in phon_freq.items()}\n",
    "    \n",
    "    # each phoneme is limited to no more than 4 times at a given position across words\n",
    "    if (max(phon_freq_0.values()) <= 4 and max(phon_freq_1.values()) <= 4 and\n",
    "        # no phoneme repetition allowed within a given word\n",
    "        all([x[0] != x[2] for x in selection_list]) and all([x[1] != x[3] for x in selection_list]) and\n",
    "        # no transposed syllables are allowed in a given word list\n",
    "        all([y not in selection_list for y in [x[2:]+x[:2] for x in selection_list]])):\n",
    "        \n",
    "        print(\"seed: {}\".format(seed))\n",
    "        break"
   ]
  },
  {
   "cell_type": "code",
   "execution_count": 4,
   "metadata": {},
   "outputs": [
    {
     "name": "stdout",
     "output_type": "stream",
     "text": [
      "target: ['b^si'], cohort: ['b^ra'], rhyme: ['k^si']\n",
      "target: ['b^ra'], cohort: ['b^si'], rhyme: ['k^ra']\n",
      "target: ['k^si'], cohort: ['k^ra'], rhyme: ['b^si']\n",
      "target: ['k^ra'], cohort: ['k^si'], rhyme: ['b^ra']\n",
      "target: ['kibu'], cohort: ['kisa'], rhyme: ['ribu']\n",
      "target: ['kisa'], cohort: ['kibu'], rhyme: ['risa']\n",
      "target: ['ribu'], cohort: ['risa'], rhyme: ['kibu']\n",
      "target: ['risa'], cohort: ['ribu'], rhyme: ['kisa']\n",
      "target: ['suk^'], cohort: ['suki'], rhyme: ['ruk^']\n",
      "target: ['suki'], cohort: ['suk^'], rhyme: ['ruki']\n",
      "target: ['ruk^'], cohort: ['ruki'], rhyme: ['suk^']\n",
      "target: ['ruki'], cohort: ['ruk^'], rhyme: ['suki']\n"
     ]
    }
   ],
   "source": [
    "for x in selection_list:\n",
    "    x_cohort = [y for y in selection_list if y[:2] == x[:2] and y != x]\n",
    "    x_rhyme = [y for y in selection_list if y[1:] == x[1:] and y != x]\n",
    "    print(\"target: {}, cohort: {}, rhyme: {}\".format([x], x_cohort, x_rhyme))"
   ]
  },
  {
   "cell_type": "code",
   "execution_count": 5,
   "metadata": {},
   "outputs": [
    {
     "data": {
      "text/plain": [
       "{'b': [2, 2],\n",
       " 'k': [4, 4],\n",
       " 's': [2, 4],\n",
       " 'r': [4, 2],\n",
       " 'a': [0, 4],\n",
       " '^': [4, 2],\n",
       " 'u': [4, 2],\n",
       " 'i': [4, 4]}"
      ]
     },
     "execution_count": 5,
     "metadata": {},
     "output_type": "execute_result"
    }
   ],
   "source": [
    "{x: [''.join([y[:2] for y in selection_list]).count(x),\n",
    "     ''.join([y[2:] for y in selection_list]).count(x)] for x in C+V}"
   ]
  },
  {
   "cell_type": "code",
   "execution_count": 6,
   "metadata": {},
   "outputs": [
    {
     "data": {
      "text/plain": [
       "{'ba': [0, 0],\n",
       " 'b^': [2, 0],\n",
       " 'bu': [0, 2],\n",
       " 'bi': [0, 0],\n",
       " 'ka': [0, 0],\n",
       " 'k^': [2, 2],\n",
       " 'ku': [0, 0],\n",
       " 'ki': [2, 2],\n",
       " 'sa': [0, 2],\n",
       " 's^': [0, 0],\n",
       " 'su': [2, 0],\n",
       " 'si': [0, 2],\n",
       " 'ra': [0, 2],\n",
       " 'r^': [0, 0],\n",
       " 'ru': [2, 0],\n",
       " 'ri': [2, 0]}"
      ]
     },
     "execution_count": 6,
     "metadata": {},
     "output_type": "execute_result"
    }
   ],
   "source": [
    "{''.join(x): [''.join([y[:2] for y in selection_list]).count(''.join(x)),\n",
    "              ''.join([y[2:] for y in selection_list]).count(''.join(x))] for x in product(C, V)}"
   ]
  },
  {
   "cell_type": "code",
   "execution_count": 7,
   "metadata": {},
   "outputs": [
    {
     "name": "stdout",
     "output_type": "stream",
     "text": [
      "['b^si', 'b^ra', 'k^si', 'k^ra', 'kibu', 'kisa', 'ribu', 'risa', 'suk^', 'suki', 'ruk^', 'ruki']\n"
     ]
    }
   ],
   "source": [
    "print(selection_list)"
   ]
  },
  {
   "cell_type": "code",
   "execution_count": null,
   "metadata": {},
   "outputs": [],
   "source": []
  }
 ],
 "metadata": {
  "kernelspec": {
   "display_name": "Python 3",
   "language": "python",
   "name": "python3"
  },
  "language_info": {
   "codemirror_mode": {
    "name": "ipython",
    "version": 3
   },
   "file_extension": ".py",
   "mimetype": "text/x-python",
   "name": "python",
   "nbconvert_exporter": "python",
   "pygments_lexer": "ipython3",
   "version": "3.8.5"
  }
 },
 "nbformat": 4,
 "nbformat_minor": 4
}
